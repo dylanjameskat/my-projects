{
 "cells": [
  {
   "cell_type": "code",
   "execution_count": null,
   "id": "f743603c",
   "metadata": {},
   "outputs": [],
   "source": [
    "# Import necessary libraries\n",
    "import matplotlib.pyplot as plt\n",
    "import numpy as np"
   ]
  },
  {
   "cell_type": "code",
   "execution_count": null,
   "id": "76720b42",
   "metadata": {},
   "outputs": [],
   "source": [
    "# Generate y values and compute x = y^2\n",
    "y = np.linspace(-10, 10, 400)\n",
    "x = y ** 2"
   ]
  },
  {
   "cell_type": "code",
   "execution_count": null,
   "id": "1d286e1a",
   "metadata": {},
   "outputs": [],
   "source": [
    "# Plot the graph\n",
    "plt.figure(figsize=(8, 6))\n",
    "plt.plot(x, y)\n",
    "plt.title('Graph of x = y^2')\n",
    "plt.xlabel('x')\n",
    "plt.ylabel('y')\n",
    "plt.grid(True)\n",
    "plt.show()"
   ]
  }
 ],
 "metadata": {},
 "nbformat": 4,
 "nbformat_minor": 5
}
